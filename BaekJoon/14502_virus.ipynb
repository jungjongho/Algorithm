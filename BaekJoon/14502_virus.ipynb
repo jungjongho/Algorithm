{
 "cells": [
  {
   "cell_type": "code",
   "execution_count": 1,
   "metadata": {},
   "outputs": [],
   "source": [
    "# N,M=map(int,input().split())\n",
    "# matrix_original=[]\n",
    "# for i in range(N):\n",
    "#     number=list(map(int,input().split()))\n",
    "#     matrix_original.append(number)"
   ]
  },
  {
   "cell_type": "code",
   "execution_count": 3,
   "metadata": {},
   "outputs": [],
   "source": [
    "N,M=7,7\n",
    "matrix=[\n",
    "[2, 0, 0, 0, 1, 1, 0],\n",
    "[0, 0, 1, 0, 1, 2, 0],\n",
    "[0, 1, 1, 0, 1, 0, 0],\n",
    "[0, 1, 0, 0, 0, 0, 0],\n",
    "[0, 0, 0, 0, 0, 1, 1],\n",
    "[0, 1, 0, 0, 0, 0, 0],\n",
    "[0, 1, 0, 0, 0, 0, 0]\n",
    "]"
   ]
  },
  {
   "cell_type": "code",
   "execution_count": null,
   "metadata": {},
   "outputs": [],
   "source": []
  }
 ],
 "metadata": {
  "interpreter": {
   "hash": "f68a52d6746b8edec33e9d0848c665d5f17e646007ceb6470c84aeea645ccfe6"
  },
  "kernelspec": {
   "display_name": "Python 3.9.6 64-bit ('dacon': conda)",
   "language": "python",
   "name": "python3"
  },
  "language_info": {
   "codemirror_mode": {
    "name": "ipython",
    "version": 3
   },
   "file_extension": ".py",
   "mimetype": "text/x-python",
   "name": "python",
   "nbconvert_exporter": "python",
   "pygments_lexer": "ipython3",
   "version": "3.9.6"
  },
  "orig_nbformat": 4
 },
 "nbformat": 4,
 "nbformat_minor": 2
}
