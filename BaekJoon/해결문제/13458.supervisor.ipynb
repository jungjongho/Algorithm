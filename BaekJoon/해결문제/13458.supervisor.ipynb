{
 "cells": [
  {
   "cell_type": "code",
   "execution_count": 6,
   "metadata": {},
   "outputs": [],
   "source": [
    "import math\n",
    "import copy"
   ]
  },
  {
   "cell_type": "code",
   "execution_count": null,
   "metadata": {},
   "outputs": [],
   "source": [
    "# N=int(input())\n",
    "# A=list(map(int,input().split()))\n",
    "# B,C=map(int,input().split())"
   ]
  },
  {
   "cell_type": "code",
   "execution_count": 11,
   "metadata": {},
   "outputs": [],
   "source": [
    "N=5\n",
    "A=[1000000, 1000000, 1000000,1000000,1000000]\n",
    "B,C=5,7"
   ]
  },
  {
   "cell_type": "code",
   "execution_count": 12,
   "metadata": {},
   "outputs": [
    {
     "name": "stdout",
     "output_type": "stream",
     "text": [
      "142857\n",
      "142857\n",
      "142857\n",
      "142857\n",
      "142857\n",
      "714290\n"
     ]
    }
   ],
   "source": [
    "pop=0\n",
    "for i in range(N):\n",
    "    tmp=copy.copy(A[i])\n",
    "    tmp=tmp-B\n",
    "    pop=pop+1\n",
    "    pop=pop + math.ceil(tmp/C)\n",
    "\n",
    "print(pop)"
   ]
  }
 ],
 "metadata": {
  "interpreter": {
   "hash": "b3ba2566441a7c06988d0923437866b63cedc61552a5af99d1f4fb67d367b25f"
  },
  "kernelspec": {
   "display_name": "Python 3.8.8 64-bit ('base': conda)",
   "language": "python",
   "name": "python3"
  },
  "language_info": {
   "codemirror_mode": {
    "name": "ipython",
    "version": 3
   },
   "file_extension": ".py",
   "mimetype": "text/x-python",
   "name": "python",
   "nbconvert_exporter": "python",
   "pygments_lexer": "ipython3",
   "version": "3.8.8"
  },
  "orig_nbformat": 4
 },
 "nbformat": 4,
 "nbformat_minor": 2
}
