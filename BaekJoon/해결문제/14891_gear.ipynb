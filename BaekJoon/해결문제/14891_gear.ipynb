{
 "cells": [
  {
   "cell_type": "code",
   "execution_count": 21,
   "metadata": {},
   "outputs": [],
   "source": [
    "from collections import deque\n",
    "gear=[\n",
    "[1,0,1,0,1,1,1,1],\n",
    "[0,1,1,1,1,1,0,1],\n",
    "[1,1,0,0,1,1,1,0],\n",
    "[0,0,0,0,0,0,1,0]\n",
    "]\n",
    "K=2\n",
    "op=[\n",
    "[3,-1],\n",
    "[1, 1]\n",
    "]\n",
    "\n",
    "visit=[False,False,False,False]"
   ]
  },
  {
   "cell_type": "code",
   "execution_count": 28,
   "metadata": {},
   "outputs": [],
   "source": [
    "def move(num,gear_list,rotation):\n",
    "    \n",
    "    \n",
    "    \n",
    "    if rotation==1:\n",
    "        tmp=gear_list[num-1][0]\n",
    "        gear_list[num-1][0]=gear_list[num-1][7]\n",
    "        gear_list[num-1][7]=gear_list[num-1][6]\n",
    "        gear_list[num-1][6]=gear_list[num-1][5]\n",
    "        gear_list[num-1][5]=gear_list[num-1][4]\n",
    "        gear_list[num-1][4]=gear_list[num-1][3]\n",
    "        gear_list[num-1][3]=gear_list[num-1][2]\n",
    "        gear_list[num-1][2]=gear_list[num-1][1]\n",
    "        gear_list[num-1][1]=tmp\n",
    "        return gear_list\n",
    "\n",
    "    elif rotation==-1:\n",
    "        tmp=gear_list[num-1][0]\n",
    "        gear_list[num-1][0]=gear_list[num-1][1]\n",
    "        gear_list[num-1][1]=gear_list[num-1][2]\n",
    "        gear_list[num-1][2]=gear_list[num-1][3]\n",
    "        gear_list[num-1][3]=gear_list[num-1][4]\n",
    "        gear_list[num-1][4]=gear_list[num-1][5]\n",
    "        gear_list[num-1][5]=gear_list[num-1][6]\n",
    "        gear_list[num-1][6]=gear_list[num-1][7]\n",
    "        gear_list[num-1][7]=tmp\n",
    "        return gear_list\n",
    "\n",
    "\n"
   ]
  },
  {
   "cell_type": "code",
   "execution_count": 29,
   "metadata": {},
   "outputs": [
    {
     "name": "stdout",
     "output_type": "stream",
     "text": [
      "[[1, 1, 1, 1, 1, 1, 1, 1], [1, 1, 1, 1, 1, 1, 1, 1], [1, 1, 1, 1, 1, 1, 1, 1], [1, 1, 1, 1, 1, 1, 1, 1]]\n",
      "15\n"
     ]
    }
   ],
   "source": [
    "import copy\n",
    "gear=[\n",
    "[1,1,1,1,1,1,1,1],\n",
    "[1,1,1,1,1,1,1,1],\n",
    "[1,1,1,1,1,1,1,1],\n",
    "[1,1,1,1,1,1,1,1]\n",
    "]\n",
    "K=3\n",
    "op=[\n",
    "[1, 1],\n",
    "[2, 1],\n",
    "[3,1]\n",
    "]\n",
    "visit=[False,False,False,False]\n",
    "gear_copy=copy.deepcopy(gear)\n",
    "\n",
    "for i in op:\n",
    "    if i[0]==1:\n",
    "        gear_copy=move(i[0],gear_copy,i[1])\n",
    "        if gear[i[0]-1][2]!=gear[i[0]][-2]:\n",
    "            gear_copy=move(i[0]+1,gear_copy,-i[1])\n",
    "            if gear[i[0]][2]!=gear[i[0]+1][-2]:\n",
    "                gear_copy=move(i[0]+2,gear_copy,i[1])\n",
    "                if gear[i[0]+1][2]!=gear[i[0]+2][-2]:\n",
    "                    gear_copy=move(i[0]+3,gear_copy,-i[1])\n",
    "    if i[0]==4:\n",
    "        gear_copy=move(i[0],gear_copy,i[1])\n",
    "        if gear[i[0]-1][-2]!=gear[i[0]-2][2]:\n",
    "            gear_copy=move(i[0]-1,gear_copy,-i[1])\n",
    "            if gear[i[0]-2][-2]!=gear[i[0]-3][2]:\n",
    "                gear_copy=move(i[0]-2,gear_copy,i[1])\n",
    "                if gear[i[0]-3][-2]!=gear[i[0]-4][2]:\n",
    "                    gear_copy=move(i[0]-3,gear_copy,-i[1])\n",
    "\n",
    "    if i[0]==2:\n",
    "        gear_copy=move(i[0],gear_copy,i[1])\n",
    "        if gear[i[0]-1][-2]==gear[i[0]-2][2]:\n",
    "            gear_copy=move(i[0]-1,gear_copy,-i[1])\n",
    "        if gear[i[0]-1][2]==gear[i[0]][-2]:\n",
    "            gear_copy=move(i[0]+1,gear_copy,-i[1])\n",
    "            if gear[i[0]][2]!=gear[i[0]+1][-2]:\n",
    "                gear_copy=move(i[0]+2,gear_copy,i[1])\n",
    "\n",
    "    if i[0]==3:\n",
    "        gear_copy=move(i[0],gear_copy,i[1])\n",
    "        if gear[i[0]-1][-2]!=gear[i[0]-2][2]:\n",
    "            gear_copy=move(i[0]-1,gear_copy,-i[1])\n",
    "            if gear[i[0]-2][-2]!=gear[i[0]-3][2]:\n",
    "                gear_copy=move(i[0]-2,gear_copy,i[1])\n",
    "        if gear[i[0]-1][2]!=gear[i[0]][-2]:\n",
    "            gear_copy=move(i[0]+1,gear_copy,-i[1])\n",
    "        \n",
    "\n",
    "\n",
    "\n",
    "\n",
    "print(gear_copy)\n",
    "\n",
    "point=0\n",
    "\n",
    "for idx,i in enumerate(gear_copy):\n",
    "    if i[0]==1:\n",
    "        point = point + 2**(idx)\n",
    "\n",
    "print(point)\n",
    "\n",
    "\n"
   ]
  },
  {
   "cell_type": "code",
   "execution_count": null,
   "metadata": {},
   "outputs": [],
   "source": []
  },
  {
   "cell_type": "code",
   "execution_count": 30,
   "metadata": {},
   "outputs": [
    {
     "data": {
      "text/plain": [
       "'2'"
      ]
     },
     "execution_count": 30,
     "metadata": {},
     "output_type": "execute_result"
    }
   ],
   "source": [
    "number='1234'\n",
    "number[1]"
   ]
  }
 ],
 "metadata": {
  "interpreter": {
   "hash": "711798a1253e42aea39410b452da8b3c7dc6309309029f9a45f64c032f4e4fab"
  },
  "kernelspec": {
   "display_name": "Python 3.8.11 64-bit ('stockpredict': conda)",
   "language": "python",
   "name": "python3"
  },
  "language_info": {
   "codemirror_mode": {
    "name": "ipython",
    "version": 3
   },
   "file_extension": ".py",
   "mimetype": "text/x-python",
   "name": "python",
   "nbconvert_exporter": "python",
   "pygments_lexer": "ipython3",
   "version": "3.8.11"
  },
  "orig_nbformat": 4
 },
 "nbformat": 4,
 "nbformat_minor": 2
}
