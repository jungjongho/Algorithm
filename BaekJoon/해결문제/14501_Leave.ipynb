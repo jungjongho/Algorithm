{
 "cells": [
  {
   "cell_type": "code",
   "execution_count": null,
   "metadata": {},
   "outputs": [],
   "source": [
    "N=int(input())\n",
    "\n",
    "matrix=[]\n",
    "for i in range(N):\n",
    "    number=list(map(int,input().split()))\n",
    "    matrix.append(number)"
   ]
  },
  {
   "cell_type": "code",
   "execution_count": 38,
   "metadata": {},
   "outputs": [],
   "source": [
    "import copy\n",
    "\n",
    "N=7\n",
    "matrix=[\n",
    "[3, 15],\n",
    "[1000, 20],\n",
    "[1, 10],\n",
    "[1, 20],\n",
    "[2, 15],\n",
    "[4, 40],\n",
    "[1000, 200]\n",
    "]"
   ]
  },
  {
   "cell_type": "code",
   "execution_count": 16,
   "metadata": {},
   "outputs": [
    {
     "data": {
      "text/plain": [
       "[[0, [3, 10]],\n",
       " [1, [5, 20]],\n",
       " [2, [1, 10]],\n",
       " [3, [1, 20]],\n",
       " [4, [2, 15]],\n",
       " [5, [4, 40]],\n",
       " [6, [2, 200]]]"
      ]
     },
     "execution_count": 16,
     "metadata": {},
     "output_type": "execute_result"
    }
   ],
   "source": [
    "index_matrix=[]\n",
    "\n",
    "for idx, i in enumerate(matrix):\n",
    "    index_matrix.append([idx,i])\n",
    "\n",
    "index_matrix"
   ]
  },
  {
   "cell_type": "code",
   "execution_count": 30,
   "metadata": {},
   "outputs": [
    {
     "name": "stdout",
     "output_type": "stream",
     "text": [
      "[0, [3, 10]]\n",
      "[3, [1, 20]]\n",
      "[[0, [3, 10]], [1, [5, 20]], [2, [1, 10]], [3, [1, 20]], [4, [1001, 0]], [5, [4, 40]], [6, [2, 200]]]\n",
      "[[0, [3, 10]], [3, [1, 20]]]\n"
     ]
    },
    {
     "data": {
      "text/plain": [
       "[[0, [3, 10]],\n",
       " [1, [5, 20]],\n",
       " [2, [1, 10]],\n",
       " [3, [1001, 0]],\n",
       " [4, [1001, 0]],\n",
       " [5, [4, 40]],\n",
       " [6, [2, 200]]]"
      ]
     },
     "execution_count": 30,
     "metadata": {},
     "output_type": "execute_result"
    }
   ],
   "source": [
    "remain_day=0\n",
    "money=0\n",
    "work=[]\n",
    "for i in (index_matrix):\n",
    "    if remain_day==0:\n",
    "        if i[1][0]<=len(index_matrix)-i[0]:\n",
    "            remain_day=i[1][0]\n",
    "            money=money+i[1][1]\n",
    "            remain_day=remain_day-1\n",
    "            work.append(i)\n",
    "            print(i)\n",
    "        else:\n",
    "            # work.append([0,[0,0]])\n",
    "            pass\n",
    "    else:\n",
    "        remain_day=remain_day-1\n",
    "        # work.append([0,[0,0]])\n",
    "\n",
    "print(index_matrix)\n",
    "print(work)\n",
    "index_matrix[work[-1][0]]=[work[-1][0],[1001,0]]\n",
    "\n",
    "index_matrix"
   ]
  },
  {
   "cell_type": "code",
   "execution_count": 63,
   "metadata": {},
   "outputs": [
    {
     "name": "stdout",
     "output_type": "stream",
     "text": [
      "50\n"
     ]
    }
   ],
   "source": [
    "\n",
    "dp = [0 for i in range(N+1)]\n",
    "\n",
    "t=0\n",
    "for i in range(N):\n",
    "\n",
    "    if matrix[N-1-i][0] >i+1: #남은 일수 + 수행하는데 걸리는 시간 > 타임 테이블의 길이\n",
    "        dp[N-1-i] = dp[N-i]\n",
    "\n",
    "    else:\n",
    "        dp[N-1-i] = max(matrix[N-1-i][1] + dp[N-1-i+ matrix[N-1-i][0]], dp[N-i]) #(work의 봉급 + work봉급 제외 최대값) vs 하루 제외 최댓값\n",
    "\n",
    "print(dp[0])\n"
   ]
  },
  {
   "cell_type": "code",
   "execution_count": 42,
   "metadata": {},
   "outputs": [
    {
     "name": "stdout",
     "output_type": "stream",
     "text": [
      "6\n",
      "5\n",
      "4\n",
      "3\n",
      "2\n",
      "1\n",
      "0\n",
      "====================\n",
      "6\n",
      "5\n",
      "4\n",
      "3\n",
      "2\n",
      "1\n",
      "0\n"
     ]
    }
   ],
   "source": [
    "for i in range(N-1,-1,-1):\n",
    "    print(i)\n",
    "\n",
    "print('='*20)\n",
    "for i in range(N):\n",
    "    print(N-i-1)"
   ]
  },
  {
   "cell_type": "code",
   "execution_count": 60,
   "metadata": {},
   "outputs": [
    {
     "name": "stdout",
     "output_type": "stream",
     "text": [
      "6\n",
      "5\n",
      "1\n",
      "50\n"
     ]
    }
   ],
   "source": [
    "for i in range(N-1,-1,-1):\n",
    "    if i + matrix[i][0] > N:\n",
    "        dp[i] = dp[i+1]\n",
    "        print(i)\n",
    "    else:\n",
    "        dp[i] = max(matrix[i][1] + dp[i + matrix[i][0]], dp[i+1])\n",
    "        # print(i)\n",
    "\n",
    "print(dp[0])"
   ]
  }
 ],
 "metadata": {
  "interpreter": {
   "hash": "b3ba2566441a7c06988d0923437866b63cedc61552a5af99d1f4fb67d367b25f"
  },
  "kernelspec": {
   "display_name": "Python 3.8.8 64-bit ('base': conda)",
   "language": "python",
   "name": "python3"
  },
  "language_info": {
   "codemirror_mode": {
    "name": "ipython",
    "version": 3
   },
   "file_extension": ".py",
   "mimetype": "text/x-python",
   "name": "python",
   "nbconvert_exporter": "python",
   "pygments_lexer": "ipython3",
   "version": "3.8.8"
  },
  "orig_nbformat": 4
 },
 "nbformat": 4,
 "nbformat_minor": 2
}
