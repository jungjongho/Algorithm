{
 "cells": [
  {
   "cell_type": "code",
   "execution_count": 66,
   "metadata": {},
   "outputs": [],
   "source": [
    "from itertools import permutations\n",
    "import numpy as np\n"
   ]
  },
  {
   "cell_type": "code",
   "execution_count": 67,
   "metadata": {},
   "outputs": [
    {
     "name": "stdout",
     "output_type": "stream",
     "text": [
      "[1, 2, 3, 4, 5, 6]\n",
      "[2, 1, 1, 1]\n",
      "['+', '+', '-', '*', '/']\n",
      "[['+', '+', '-', '*', '/'], ['+', '+', '-', '/', '*'], ['+', '+', '*', '-', '/'], ['+', '+', '*', '/', '-'], ['+', '+', '/', '-', '*'], ['+', '+', '/', '*', '-'], ['+', '-', '+', '*', '/'], ['+', '-', '+', '/', '*'], ['+', '-', '*', '+', '/'], ['+', '-', '*', '/', '+'], ['+', '-', '/', '+', '*'], ['+', '-', '/', '*', '+'], ['+', '*', '+', '-', '/'], ['+', '*', '+', '/', '-'], ['+', '*', '-', '+', '/'], ['+', '*', '-', '/', '+'], ['+', '*', '/', '+', '-'], ['+', '*', '/', '-', '+'], ['+', '/', '+', '-', '*'], ['+', '/', '+', '*', '-'], ['+', '/', '-', '+', '*'], ['+', '/', '-', '*', '+'], ['+', '/', '*', '+', '-'], ['+', '/', '*', '-', '+'], ['+', '+', '-', '*', '/'], ['+', '+', '-', '/', '*'], ['+', '+', '*', '-', '/'], ['+', '+', '*', '/', '-'], ['+', '+', '/', '-', '*'], ['+', '+', '/', '*', '-'], ['+', '-', '+', '*', '/'], ['+', '-', '+', '/', '*'], ['+', '-', '*', '+', '/'], ['+', '-', '*', '/', '+'], ['+', '-', '/', '+', '*'], ['+', '-', '/', '*', '+'], ['+', '*', '+', '-', '/'], ['+', '*', '+', '/', '-'], ['+', '*', '-', '+', '/'], ['+', '*', '-', '/', '+'], ['+', '*', '/', '+', '-'], ['+', '*', '/', '-', '+'], ['+', '/', '+', '-', '*'], ['+', '/', '+', '*', '-'], ['+', '/', '-', '+', '*'], ['+', '/', '-', '*', '+'], ['+', '/', '*', '+', '-'], ['+', '/', '*', '-', '+'], ['-', '+', '+', '*', '/'], ['-', '+', '+', '/', '*'], ['-', '+', '*', '+', '/'], ['-', '+', '*', '/', '+'], ['-', '+', '/', '+', '*'], ['-', '+', '/', '*', '+'], ['-', '+', '+', '*', '/'], ['-', '+', '+', '/', '*'], ['-', '+', '*', '+', '/'], ['-', '+', '*', '/', '+'], ['-', '+', '/', '+', '*'], ['-', '+', '/', '*', '+'], ['-', '*', '+', '+', '/'], ['-', '*', '+', '/', '+'], ['-', '*', '+', '+', '/'], ['-', '*', '+', '/', '+'], ['-', '*', '/', '+', '+'], ['-', '*', '/', '+', '+'], ['-', '/', '+', '+', '*'], ['-', '/', '+', '*', '+'], ['-', '/', '+', '+', '*'], ['-', '/', '+', '*', '+'], ['-', '/', '*', '+', '+'], ['-', '/', '*', '+', '+'], ['*', '+', '+', '-', '/'], ['*', '+', '+', '/', '-'], ['*', '+', '-', '+', '/'], ['*', '+', '-', '/', '+'], ['*', '+', '/', '+', '-'], ['*', '+', '/', '-', '+'], ['*', '+', '+', '-', '/'], ['*', '+', '+', '/', '-'], ['*', '+', '-', '+', '/'], ['*', '+', '-', '/', '+'], ['*', '+', '/', '+', '-'], ['*', '+', '/', '-', '+'], ['*', '-', '+', '+', '/'], ['*', '-', '+', '/', '+'], ['*', '-', '+', '+', '/'], ['*', '-', '+', '/', '+'], ['*', '-', '/', '+', '+'], ['*', '-', '/', '+', '+'], ['*', '/', '+', '+', '-'], ['*', '/', '+', '-', '+'], ['*', '/', '+', '+', '-'], ['*', '/', '+', '-', '+'], ['*', '/', '-', '+', '+'], ['*', '/', '-', '+', '+'], ['/', '+', '+', '-', '*'], ['/', '+', '+', '*', '-'], ['/', '+', '-', '+', '*'], ['/', '+', '-', '*', '+'], ['/', '+', '*', '+', '-'], ['/', '+', '*', '-', '+'], ['/', '+', '+', '-', '*'], ['/', '+', '+', '*', '-'], ['/', '+', '-', '+', '*'], ['/', '+', '-', '*', '+'], ['/', '+', '*', '+', '-'], ['/', '+', '*', '-', '+'], ['/', '-', '+', '+', '*'], ['/', '-', '+', '*', '+'], ['/', '-', '+', '+', '*'], ['/', '-', '+', '*', '+'], ['/', '-', '*', '+', '+'], ['/', '-', '*', '+', '+'], ['/', '*', '+', '+', '-'], ['/', '*', '+', '-', '+'], ['/', '*', '+', '+', '-'], ['/', '*', '+', '-', '+'], ['/', '*', '-', '+', '+'], ['/', '*', '-', '+', '+']]\n"
     ]
    }
   ],
   "source": [
    "# N=int(input())\n",
    "# number=list(map(int,input().split()))\n",
    "# operation=list(map(int,input().split()))\n",
    "N=6\n",
    "number=[1, 2, 3, 4, 5, 6]\n",
    "operation=[2, 1, 1, 1]\n",
    "op=['+', '-', '*', '/']\n",
    "\n",
    "print(number)\n",
    "print(operation) # + - * /\n",
    "\n",
    "\n",
    "\n",
    "operation_list=[]\n",
    "\n",
    "for i,op in zip(operation,op):\n",
    "    for k in range(i):\n",
    "        operation_list.append(op)\n",
    "\n",
    "print(operation_list)\n",
    "\n",
    "\n",
    "operation_array=list(permutations(operation_list,len(operation_list)))\n",
    "\n",
    "operation_array = list(map(list, operation_array))\n",
    "\n",
    "print(operation_array)\n",
    "\n",
    "\n",
    "\n"
   ]
  },
  {
   "cell_type": "code",
   "execution_count": 68,
   "metadata": {},
   "outputs": [],
   "source": [
    "def operation_f(number_section,operation):\n",
    "    number_list=number_section.copy()\n",
    "    if len(number_list)==1:\n",
    "        result.append(number_list[0])\n",
    "        return\n",
    "\n",
    "    if operation[0]=='+':\n",
    "        tmp=number_list[0]+number_list[1]\n",
    "        number_list.remove(number_list[1])\n",
    "        number_list.remove(number_list[0])\n",
    "        number_list.insert(0,tmp)\n",
    "        operation.remove(operation[0])\n",
    "\n",
    "\n",
    "    elif operation[0]=='-':\n",
    "        tmp=number_list[0]-number_list[1]\n",
    "        number_list.remove(number_list[1])\n",
    "        number_list.remove(number_list[0])\n",
    "        number_list.insert(0,tmp)\n",
    "        operation.remove(operation[0])\n",
    "\n",
    "\n",
    "    elif operation[0]=='*':\n",
    "        tmp=number_list[0]*number_list[1]\n",
    "        number_list.remove(number_list[1])\n",
    "        number_list.remove(number_list[0])\n",
    "        number_list.insert(0,tmp)\n",
    "        operation.remove(operation[0])\n",
    "\n",
    "\n",
    "    elif operation[0]=='/':\n",
    "        if number_list[0]<0:\n",
    "            tmp=-(-number_list[0]//number_list[1])\n",
    "        else:\n",
    "            tmp=number_list[0]//number_list[1]\n",
    "        number_list.remove(number_list[1])\n",
    "        number_list.remove(number_list[0])\n",
    "        number_list.insert(0,tmp)\n",
    "        operation.remove(operation[0])\n",
    "                \n",
    "    operation_f(number_list,operation)\n",
    "\n",
    "\n",
    "\n",
    "    "
   ]
  },
  {
   "cell_type": "code",
   "execution_count": 69,
   "metadata": {},
   "outputs": [
    {
     "name": "stdout",
     "output_type": "stream",
     "text": [
      "['+', '+', '-', '*', '/']\n",
      "[]\n"
     ]
    },
    {
     "data": {
      "text/plain": [
       "-40"
      ]
     },
     "execution_count": 69,
     "metadata": {},
     "output_type": "execute_result"
    }
   ],
   "source": [
    "result=[]\n",
    "\n"
   ]
  },
  {
   "cell_type": "code",
   "execution_count": 70,
   "metadata": {},
   "outputs": [
    {
     "name": "stdout",
     "output_type": "stream",
     "text": [
      "[  1   0   3  -2 -24  -1   3   0   0   6  30   6   1  -4   1   7   1   3\n",
      "   0  19  12  -9   3   5   1   0   3  -2 -24  -1   3   0   0   6  30   6\n",
      "   1  -4   1   7   1   3   0  19  12  -9   3   5   5   6   2   7  30   6\n",
      "   5   6   2   7  30   6   1   6   1   6  11  11  54  26  54  26  11  11\n",
      "   0  -5   1   6   0   2   0  -5   1   6   0   2   1   6   1   6  11  11\n",
      "   3   5   3   5   7   7  12  29  24   1  11  13  12  29  24   1  11  13\n",
      "  36  11  36  11  -1  -1   3   5   3   5   7   7]\n",
      "54\n",
      "-24\n"
     ]
    }
   ],
   "source": [
    "for i in operation_array:\n",
    "    operation_f(number,i)\n",
    "result=np.array(result)\n",
    "print(result)\n",
    "print(result.max())\n",
    "print(result.min())\n"
   ]
  }
 ],
 "metadata": {
  "interpreter": {
   "hash": "711798a1253e42aea39410b452da8b3c7dc6309309029f9a45f64c032f4e4fab"
  },
  "kernelspec": {
   "display_name": "Python 3.8.11 64-bit ('stockpredict': conda)",
   "language": "python",
   "name": "python3"
  },
  "language_info": {
   "codemirror_mode": {
    "name": "ipython",
    "version": 3
   },
   "file_extension": ".py",
   "mimetype": "text/x-python",
   "name": "python",
   "nbconvert_exporter": "python",
   "pygments_lexer": "ipython3",
   "version": "3.8.11"
  },
  "orig_nbformat": 4
 },
 "nbformat": 4,
 "nbformat_minor": 2
}
