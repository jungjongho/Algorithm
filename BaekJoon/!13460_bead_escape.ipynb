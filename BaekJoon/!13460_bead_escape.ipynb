{
 "cells": [
  {
   "cell_type": "code",
   "execution_count": 3,
   "metadata": {},
   "outputs": [],
   "source": [
    "#자료\n",
    "from itertools import chain\n",
    "from itertools import combinations\n",
    "from itertools import product\n",
    "from itertools import groupby\n",
    "import random\n",
    "import copy\n",
    "\n",
    "N,M=10,10\n",
    "matrix=[\n",
    "['#','#','#','#','#','#','#','#','#','#'],\n",
    "['#','R','#','.','.','.','#','#','B','#'],\n",
    "['#','.','.','.','#','.','#','#','.','#'],\n",
    "['#','#','#','#','#','.','#','#','.','#'],\n",
    "['#','.','.','.','.','.','.','#','.','#'],\n",
    "['#','.','#','#','#','#','#','#','.','#'],\n",
    "['#','.','#','.','.','.','.','#','.','#'],\n",
    "['#','.','#','.','#','.','#','.','.','#'],\n",
    "['#','.','.','.','#','.','O','#','.','#'],\n",
    "['#','#','#','#','#','#','#','#','#','#'],\n",
    "]"
   ]
  },
  {
   "cell_type": "code",
   "execution_count": 5,
   "metadata": {},
   "outputs": [
    {
     "data": {
      "text/plain": [
       "2"
      ]
     },
     "execution_count": 5,
     "metadata": {},
     "output_type": "execute_result"
    }
   ],
   "source": [
    "random.randint(1,4)"
   ]
  },
  {
   "cell_type": "code",
   "execution_count": 1,
   "metadata": {},
   "outputs": [
    {
     "ename": "NameError",
     "evalue": "name 'product' is not defined",
     "output_type": "error",
     "traceback": [
      "\u001b[1;31m---------------------------------------------------------------------------\u001b[0m",
      "\u001b[1;31mNameError\u001b[0m                                 Traceback (most recent call last)",
      "\u001b[1;32m<ipython-input-1-947e3807ab99>\u001b[0m in \u001b[0;36m<module>\u001b[1;34m\u001b[0m\n\u001b[1;32m----> 1\u001b[1;33m \u001b[0moperation\u001b[0m\u001b[1;33m=\u001b[0m\u001b[0mlist\u001b[0m\u001b[1;33m(\u001b[0m\u001b[0mproduct\u001b[0m\u001b[1;33m(\u001b[0m\u001b[1;33m[\u001b[0m\u001b[1;34m'up'\u001b[0m\u001b[1;33m,\u001b[0m\u001b[1;34m'down'\u001b[0m\u001b[1;33m,\u001b[0m\u001b[1;34m'left'\u001b[0m\u001b[1;33m,\u001b[0m\u001b[1;34m'right'\u001b[0m\u001b[1;33m]\u001b[0m\u001b[1;33m,\u001b[0m\u001b[0mrepeat\u001b[0m\u001b[1;33m=\u001b[0m\u001b[1;36m10\u001b[0m\u001b[1;33m)\u001b[0m\u001b[1;33m)\u001b[0m\u001b[1;33m\u001b[0m\u001b[1;33m\u001b[0m\u001b[0m\n\u001b[0m\u001b[0;32m      2\u001b[0m \u001b[1;33m\u001b[0m\u001b[0m\n\u001b[0;32m      3\u001b[0m \u001b[1;32mfor\u001b[0m \u001b[0mi\u001b[0m \u001b[1;32min\u001b[0m \u001b[0moperation\u001b[0m\u001b[1;33m:\u001b[0m\u001b[1;33m\u001b[0m\u001b[1;33m\u001b[0m\u001b[0m\n\u001b[0;32m      4\u001b[0m     \u001b[0mprint\u001b[0m\u001b[1;33m(\u001b[0m\u001b[0mi\u001b[0m\u001b[1;33m)\u001b[0m\u001b[1;33m\u001b[0m\u001b[1;33m\u001b[0m\u001b[0m\n",
      "\u001b[1;31mNameError\u001b[0m: name 'product' is not defined"
     ]
    }
   ],
   "source": [
    "def generate_list(len):\n",
    "    operation=['right','left','up','down']\n",
    "    \n"
   ]
  },
  {
   "cell_type": "code",
   "execution_count": 19,
   "metadata": {},
   "outputs": [
    {
     "name": "stdout",
     "output_type": "stream",
     "text": [
      "[11]\n",
      "[18]\n"
     ]
    }
   ],
   "source": [
    "matrix_flatten=list(chain(*matrix))\n",
    "# matrix_flatten\n",
    "R_index=[]\n",
    "B_index=[]\n",
    "\n",
    "for idx, i in enumerate(matrix_flatten):\n",
    "    if i=='R':\n",
    "        R_index.append(idx)\n",
    "    if i=='B':\n",
    "        B_index.append(idx)\n",
    "\n",
    "print(R_index)\n",
    "print(B_index)\n",
    "\n"
   ]
  },
  {
   "cell_type": "code",
   "execution_count": 20,
   "metadata": {},
   "outputs": [],
   "source": [
    "tmp=0\n",
    "\n",
    "def move(matrix,direction,R_location,B_location,tmp):\n",
    "    tmp +=1\n",
    "    if direction=='left':\n",
    "        for i in range(M):\n",
    "            if matrix[R_location-1]=='.':\n",
    "                R_location= R_location -1\n",
    "                matrix[R_location]='R'\n",
    "                matrix[R_location+1]='.'\n",
    "\n",
    "            elif matrix[R_location-1]=='O':\n",
    "                \n",
    "                return tmp\n",
    "\n",
    "\n",
    "            if matrix[B_location-1]=='.':\n",
    "                B_location = B_location -1\n",
    "                matrix[B_location]='B'\n",
    "                matrix[B_location+1]='.'\n",
    "\n",
    "            elif matrix[R_location-1]=='O':\n",
    "\n",
    "                return False    \n",
    "\n",
    "    if direction=='right':\n",
    "        for i in range(M):\n",
    "            if matrix[R_location+1]=='.':\n",
    "                R_location= R_location +1\n",
    "                matrix[R_location]='R'\n",
    "                matrix[R_location-1]='.'\n",
    "\n",
    "            elif matrix[R_location+1]=='O':\n",
    "                \n",
    "                return tmp\n",
    "\n",
    "\n",
    "            if matrix[B_location+1]=='.':\n",
    "                B_location = B_location +1\n",
    "                matrix[B_location]='B'\n",
    "                matrix[B_location-1]='.'\n",
    "\n",
    "            elif matrix[R_location+1]=='O':\n",
    "\n",
    "                return False \n",
    "\n",
    "    if direction=='up':\n",
    "        for i in range(N):\n",
    "            if matrix[R_location-M]=='.':\n",
    "                R_location= R_location -M\n",
    "                matrix[R_location]='R'\n",
    "                matrix[R_location+M]='.'\n",
    "\n",
    "            elif matrix[R_location-M]=='O':\n",
    "                \n",
    "                return tmp\n",
    "\n",
    "\n",
    "            if matrix[B_location-M]=='.':\n",
    "                B_location = B_location -M\n",
    "                matrix[B_location]='B'\n",
    "                matrix[B_location+M]='.'\n",
    "\n",
    "            elif matrix[R_location-M]=='O':\n",
    "\n",
    "                return False   \n",
    "\n",
    "    if direction=='down':\n",
    "        for i in range(N):\n",
    "            if matrix[R_location+M]=='.':\n",
    "                R_location= R_location +M\n",
    "                matrix[R_location]='R'\n",
    "                matrix[R_location-M]='.'\n",
    "\n",
    "            elif matrix[R_location+M]=='O':\n",
    "                \n",
    "                return tmp\n",
    "\n",
    "\n",
    "            if matrix[B_location+M]=='.':\n",
    "                B_location = B_location +M\n",
    "                matrix[B_location]='B'\n",
    "                matrix[B_location-M]='.'\n",
    "\n",
    "            elif matrix[R_location+M]=='O':\n",
    "\n",
    "                return False "
   ]
  },
  {
   "cell_type": "code",
   "execution_count": 21,
   "metadata": {},
   "outputs": [],
   "source": [
    "def remove(arr):\n",
    "    result=[]\n",
    "    result.append(arr[0])\n",
    "    for i in range(1,len(arr)):\n",
    "        if arr[i] != arr[i-1]:\n",
    "            result.append(arr[i])\n",
    "    return result"
   ]
  },
  {
   "cell_type": "code",
   "execution_count": 22,
   "metadata": {},
   "outputs": [
    {
     "ename": "KeyboardInterrupt",
     "evalue": "",
     "output_type": "error",
     "traceback": [
      "\u001b[1;31m---------------------------------------------------------------------------\u001b[0m",
      "\u001b[1;31mKeyboardInterrupt\u001b[0m                         Traceback (most recent call last)",
      "\u001b[1;32m<ipython-input-22-bf951b4e2bfb>\u001b[0m in \u001b[0;36m<module>\u001b[1;34m\u001b[0m\n\u001b[0;32m      4\u001b[0m     \u001b[0mi\u001b[0m\u001b[1;33m=\u001b[0m\u001b[0mremove\u001b[0m\u001b[1;33m(\u001b[0m\u001b[0mi\u001b[0m\u001b[1;33m)\u001b[0m\u001b[1;33m\u001b[0m\u001b[1;33m\u001b[0m\u001b[0m\n\u001b[0;32m      5\u001b[0m     \u001b[1;32mfor\u001b[0m \u001b[0mk\u001b[0m \u001b[1;32min\u001b[0m \u001b[0mi\u001b[0m\u001b[1;33m:\u001b[0m\u001b[1;33m\u001b[0m\u001b[1;33m\u001b[0m\u001b[0m\n\u001b[1;32m----> 6\u001b[1;33m         \u001b[0mop\u001b[0m\u001b[1;33m=\u001b[0m\u001b[0mmove\u001b[0m\u001b[1;33m(\u001b[0m\u001b[0mmatrix_flatten\u001b[0m\u001b[1;33m,\u001b[0m\u001b[0mk\u001b[0m\u001b[1;33m,\u001b[0m\u001b[0mR_index\u001b[0m\u001b[1;33m[\u001b[0m\u001b[1;36m0\u001b[0m\u001b[1;33m]\u001b[0m\u001b[1;33m,\u001b[0m\u001b[0mB_index\u001b[0m\u001b[1;33m[\u001b[0m\u001b[1;36m0\u001b[0m\u001b[1;33m]\u001b[0m\u001b[1;33m,\u001b[0m\u001b[0mtmp\u001b[0m\u001b[1;33m)\u001b[0m\u001b[1;33m\u001b[0m\u001b[1;33m\u001b[0m\u001b[0m\n\u001b[0m\u001b[0;32m      7\u001b[0m         \u001b[1;32mif\u001b[0m \u001b[0mop\u001b[0m\u001b[1;33m==\u001b[0m\u001b[1;32mFalse\u001b[0m\u001b[1;33m:\u001b[0m\u001b[1;33m\u001b[0m\u001b[1;33m\u001b[0m\u001b[0m\n\u001b[0;32m      8\u001b[0m             \u001b[1;32mbreak\u001b[0m\u001b[1;33m\u001b[0m\u001b[1;33m\u001b[0m\u001b[0m\n",
      "\u001b[1;32m<ipython-input-20-301e8d0d46cb>\u001b[0m in \u001b[0;36mmove\u001b[1;34m(matrix, direction, R_location, B_location, tmp)\u001b[0m\n\u001b[0;32m     36\u001b[0m \u001b[1;33m\u001b[0m\u001b[0m\n\u001b[0;32m     37\u001b[0m \u001b[1;33m\u001b[0m\u001b[0m\n\u001b[1;32m---> 38\u001b[1;33m             \u001b[1;32mif\u001b[0m \u001b[0mmatrix\u001b[0m\u001b[1;33m[\u001b[0m\u001b[0mB_location\u001b[0m\u001b[1;33m+\u001b[0m\u001b[1;36m1\u001b[0m\u001b[1;33m]\u001b[0m\u001b[1;33m==\u001b[0m\u001b[1;34m'.'\u001b[0m\u001b[1;33m:\u001b[0m\u001b[1;33m\u001b[0m\u001b[1;33m\u001b[0m\u001b[0m\n\u001b[0m\u001b[0;32m     39\u001b[0m                 \u001b[0mB_location\u001b[0m \u001b[1;33m=\u001b[0m \u001b[0mB_location\u001b[0m \u001b[1;33m+\u001b[0m\u001b[1;36m1\u001b[0m\u001b[1;33m\u001b[0m\u001b[1;33m\u001b[0m\u001b[0m\n\u001b[0;32m     40\u001b[0m                 \u001b[0mmatrix\u001b[0m\u001b[1;33m[\u001b[0m\u001b[0mB_location\u001b[0m\u001b[1;33m]\u001b[0m\u001b[1;33m=\u001b[0m\u001b[1;34m'B'\u001b[0m\u001b[1;33m\u001b[0m\u001b[1;33m\u001b[0m\u001b[0m\n",
      "\u001b[1;31mKeyboardInterrupt\u001b[0m: "
     ]
    }
   ],
   "source": [
    "tmp_list=[]\n",
    "\n",
    "for i in operation:\n",
    "    i=remove(i)\n",
    "    for k in i:\n",
    "        op=move(matrix_flatten,k,R_index[0],B_index[0],tmp)\n",
    "        if op==False:\n",
    "            break\n",
    "    tmp_list.append(tmp)\n",
    "\n",
    "if max(tmp_list)==0:\n",
    "    print(-1)\n",
    "else:\n",
    "    print(max(tmp_list))"
   ]
  }
 ],
 "metadata": {
  "interpreter": {
   "hash": "b3ba2566441a7c06988d0923437866b63cedc61552a5af99d1f4fb67d367b25f"
  },
  "kernelspec": {
   "display_name": "Python 3.8.8 64-bit ('base': conda)",
   "language": "python",
   "name": "python3"
  },
  "language_info": {
   "codemirror_mode": {
    "name": "ipython",
    "version": 3
   },
   "file_extension": ".py",
   "mimetype": "text/x-python",
   "name": "python",
   "nbconvert_exporter": "python",
   "pygments_lexer": "ipython3",
   "version": "3.8.8"
  },
  "orig_nbformat": 4
 },
 "nbformat": 4,
 "nbformat_minor": 2
}
