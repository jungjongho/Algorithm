{
 "cells": [
  {
   "cell_type": "code",
   "execution_count": 5,
   "metadata": {},
   "outputs": [
    {
     "name": "stdout",
     "output_type": "stream",
     "text": [
      "6 2\n"
     ]
    }
   ],
   "source": [
    "N,L=map(int,input().split())\n",
    "\n",
    "matrix=[]\n",
    "\n",
    "for i in range(N):\n",
    "    tmp=list(map(int,input().split()))\n",
    "    matrix.append(tmp)\n",
    "    "
   ]
  },
  {
   "cell_type": "code",
   "execution_count": 6,
   "metadata": {},
   "outputs": [],
   "source": [
    "N,L=6,2\n",
    "matrix=[\n",
    "[3, 3, 3, 3, 3, 3],\n",
    "[2, 3, 3, 3, 3, 3],\n",
    "[2, 2, 2, 3, 2, 3],\n",
    "[1, 1, 1, 2, 2, 2],\n",
    "[1, 1, 1, 3, 3, 1],\n",
    "[1, 1, 2, 3, 3, 2]\n",
    "]\n"
   ]
  },
  {
   "cell_type": "code",
   "execution_count": 21,
   "metadata": {},
   "outputs": [],
   "source": [
    "def check(line):\n",
    "    visit=[False]*len(line)\n",
    "    for i in range(len(line)-1):\n",
    "        if line[i]!=line[i+1]:\n",
    "            if abs(line[i]-line[i+1])!=1:\n",
    "                return 0\n",
    "\n",
    "            elif line[i]-line[i+1]==1:\n",
    "                for j in range(1,L+1):\n",
    "                    try:\n",
    "                        if visit[i+j]==False:\n",
    "                            if line[i]-line[i+j]==1:\n",
    "                                visit[i+j]=True\n",
    "                                pass\n",
    "                            else:\n",
    "                                return 0\n",
    "                        else:\n",
    "                            return 0\n",
    "                    except:\n",
    "                        return 0\n",
    "\n",
    "\n",
    "            elif line[i]-line[i+1]==-1:\n",
    "                for j in range(0,L):\n",
    "                    try:\n",
    "                        if visit[i-j]==False:\n",
    "                            if line[i-j]-line[i+1]==-1:\n",
    "                                visit[i-j]=True\n",
    "                                pass\n",
    "                            else:\n",
    "                                return 0\n",
    "                        else:\n",
    "                            return 0     \n",
    "                    except:\n",
    "                        return 0\n",
    "\n",
    "    return 1   \n",
    "\n"
   ]
  },
  {
   "cell_type": "code",
   "execution_count": 23,
   "metadata": {},
   "outputs": [
    {
     "name": "stdout",
     "output_type": "stream",
     "text": [
      "3\n"
     ]
    }
   ],
   "source": [
    "time=0\n",
    "for i in matrix:\n",
    "    ch=check(i)\n",
    "    time=time+ch\n",
    "\n",
    "# print(time)\n",
    "\n",
    "for i in range(len(matrix)):\n",
    "    line=[]\n",
    "    for j in range(len(matrix)):\n",
    "        line.append(matrix[j][i])\n",
    "    # print(line)\n",
    "\n",
    "    ch=check(line)\n",
    "    time=time+ch\n",
    "    # print(time)\n",
    "\n",
    "print(time)"
   ]
  },
  {
   "cell_type": "code",
   "execution_count": 20,
   "metadata": {},
   "outputs": [
    {
     "name": "stdout",
     "output_type": "stream",
     "text": [
      "[False, True, False, False, False, False, False, False, False, False]\n"
     ]
    }
   ],
   "source": [
    "visit=[False]*10\n",
    "\n",
    "visit[1]=True\n",
    "\n",
    "print(visit)"
   ]
  }
 ],
 "metadata": {
  "interpreter": {
   "hash": "711798a1253e42aea39410b452da8b3c7dc6309309029f9a45f64c032f4e4fab"
  },
  "kernelspec": {
   "display_name": "Python 3.8.11 64-bit ('stockpredict': conda)",
   "language": "python",
   "name": "python3"
  },
  "language_info": {
   "codemirror_mode": {
    "name": "ipython",
    "version": 3
   },
   "file_extension": ".py",
   "mimetype": "text/x-python",
   "name": "python",
   "nbconvert_exporter": "python",
   "pygments_lexer": "ipython3",
   "version": "3.8.11"
  },
  "orig_nbformat": 4
 },
 "nbformat": 4,
 "nbformat_minor": 2
}
