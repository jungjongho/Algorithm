{
 "cells": [
  {
   "cell_type": "code",
   "execution_count": null,
   "metadata": {},
   "outputs": [],
   "source": [
    "N,L=6,2\n",
    "\n",
    "matrix=[\n",
    "[3, 2, 1, 1, 2, 3],\n",
    "[3, 2, 2, 1, 2, 3],\n",
    "[3, 2, 2, 2, 3, 3],\n",
    "[3, 3, 3, 3, 3, 3],\n",
    "[3, 3, 3, 3, 2, 2],\n",
    "[3, 3, 3, 3, 2, 2]\n",
    "]"
   ]
  }
 ],
 "metadata": {
  "language_info": {
   "name": "python"
  },
  "orig_nbformat": 4
 },
 "nbformat": 4,
 "nbformat_minor": 2
}
