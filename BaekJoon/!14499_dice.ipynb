{
 "cells": [
  {
   "cell_type": "code",
   "execution_count": 28,
   "metadata": {},
   "outputs": [],
   "source": [
    "import itertools \n",
    "import copy"
   ]
  },
  {
   "cell_type": "code",
   "execution_count": 29,
   "metadata": {},
   "outputs": [],
   "source": [
    "N,M,X,Y,K=map(int,input().split())\n",
    "matrix=[]\n",
    "for i in range(N):\n",
    "    tmp=list(map(int,input().split()))\n",
    "    matrix.append(tmp)\n",
    "direction=list(map(int,input().split()))\n",
    "\n",
    "dice=[0,0,0,0,0,0]\n",
    "\n",
    "dice_location_x=X\n",
    "dice_location_y=Y"
   ]
  },
  {
   "cell_type": "code",
   "execution_count": 30,
   "metadata": {},
   "outputs": [],
   "source": [
    "N,M,X,Y,K=4, 2, 0, 0, 8\n",
    "\n",
    "matrix=[\n",
    "[0, 2],\n",
    "[3, 4],\n",
    "[5, 6],\n",
    "[7, 8]\n",
    "]\n",
    "\n",
    "\n",
    "\n",
    "dice=[0,0,0,0,0,0]\n",
    "\n",
    "dice_location_x=X\n",
    "dice_location_y=Y"
   ]
  },
  {
   "cell_type": "code",
   "execution_count": 31,
   "metadata": {},
   "outputs": [],
   "source": [
    "def move(matrix,direction,start_location_x,start_location_y,dice):\n",
    "\n",
    "    height=N-1\n",
    "    width=M-1\n",
    "\n",
    "\n",
    "    if direction == 1:\n",
    "        start_location_x=start_location_x\n",
    "        start_location_y=start_location_y+1\n",
    "\n",
    "        if (0>start_location_y) or (start_location_y>width):\n",
    "            start_location_y=start_location_y-1\n",
    "            return\n",
    "\n",
    "\n",
    "        tmp=copy.copy(dice[0])\n",
    "        dice[0]=dice[5]\n",
    "        dice[5]=dice[2]\n",
    "        dice[2]=dice[4]\n",
    "        dice[4]=tmp\n",
    "\n",
    "        tmp=dice[0]\n",
    "        dice[0]=matrix[start_location_x][start_location_y]\n",
    "        matrix[start_location_x][start_location_y]=tmp\n",
    "\n",
    "\n",
    "    if direction == 2:\n",
    "        start_location_x=start_location_x\n",
    "        start_location_y=start_location_y-1\n",
    "\n",
    "        if (0>start_location_y) or (start_location_y>width):\n",
    "            start_location_y=start_location_y+1\n",
    "            return\n",
    "\n",
    "        tmp=copy.copy(dice[0])\n",
    "        dice[0]=dice[4]\n",
    "        dice[4]=dice[2]\n",
    "        dice[2]=dice[5]\n",
    "        dice[5]=tmp\n",
    "\n",
    "\n",
    "        tmp=dice[0]\n",
    "        dice[0]=matrix[start_location_x][start_location_y]\n",
    "        matrix[start_location_x][start_location_y]=tmp\n",
    "        \n",
    "    if direction == 3:\n",
    "    \n",
    "        start_location_x=start_location_x-1\n",
    "        start_location_y=start_location_y\n",
    "\n",
    "        if (0>start_location_x) or (start_location_x>height):\n",
    "            start_location_x=start_location_x+1\n",
    "            return\n",
    "\n",
    "        tmp=copy.copy(dice[0])\n",
    "        dice[0]=dice[1]\n",
    "        dice[1]=dice[2]\n",
    "        dice[2]=dice[3]\n",
    "        dice[3]=tmp\n",
    "\n",
    "\n",
    "        tmp=dice[0]\n",
    "        dice[0]=matrix[start_location_x][start_location_y]\n",
    "        matrix[start_location_x][start_location_y]=tmp\n",
    "\n",
    "    if direction == 4:\n",
    "        start_location_x=start_location_x+1\n",
    "        start_location_y=start_location_y\n",
    "\n",
    "        if (0>start_location_x) or (start_location_x>height):\n",
    "            start_location_x=start_location_x-1\n",
    "            return\n",
    "\n",
    "        tmp=copy.copy(dice[0])\n",
    "        dice[0]=dice[3]\n",
    "        dice[3]=dice[2]\n",
    "        dice[2]=dice[1]\n",
    "        dice[1]=tmp\n",
    "\n",
    "\n",
    "        tmp=dice[0]\n",
    "        dice[0]=matrix[start_location_x][start_location_y]\n",
    "        matrix[start_location_x][start_location_y]=tmp\n",
    "\n",
    "\n",
    "\n",
    "    print(dice[2])\n",
    "\n",
    "    return start_location_x, start_location_y\n",
    "\n",
    "    "
   ]
  },
  {
   "cell_type": "code",
   "execution_count": 32,
   "metadata": {},
   "outputs": [
    {
     "name": "stdout",
     "output_type": "stream",
     "text": [
      "0\n",
      "0\n",
      "3\n",
      "0\n",
      "0\n",
      "8\n",
      "6\n",
      "3\n"
     ]
    }
   ],
   "source": [
    "direction=[4, 4, 4, 1, 3, 3, 3, 2] #1:right, 2:left, 3:up, 4:down\n",
    "\n",
    "for i in direction:\n",
    "    dice_location_x, dice_location_y=move(matrix,i,dice_location_x,dice_location_y,dice)\n"
   ]
  }
 ],
 "metadata": {
  "interpreter": {
   "hash": "b3ba2566441a7c06988d0923437866b63cedc61552a5af99d1f4fb67d367b25f"
  },
  "kernelspec": {
   "display_name": "Python 3.8.8 64-bit ('base': conda)",
   "language": "python",
   "name": "python3"
  },
  "language_info": {
   "codemirror_mode": {
    "name": "ipython",
    "version": 3
   },
   "file_extension": ".py",
   "mimetype": "text/x-python",
   "name": "python",
   "nbconvert_exporter": "python",
   "pygments_lexer": "ipython3",
   "version": "3.8.8"
  },
  "orig_nbformat": 4
 },
 "nbformat": 4,
 "nbformat_minor": 2
}
