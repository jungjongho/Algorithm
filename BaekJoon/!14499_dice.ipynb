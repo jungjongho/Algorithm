{
 "cells": [
  {
   "cell_type": "code",
   "execution_count": null,
   "metadata": {},
   "outputs": [],
   "source": [
    "import itertools "
   ]
  },
  {
   "cell_type": "code",
   "execution_count": null,
   "metadata": {},
   "outputs": [],
   "source": [
    "# N,M,X,Y,K=int(input())\n",
    "# matrix=[]\n",
    "# for i in range(N):\n",
    "#     tmp=list(map(int,input().split()))\n",
    "#     matrix.append(tmp)\n",
    "# operation=list(map(int,input().split()))"
   ]
  },
  {
   "cell_type": "code",
   "execution_count": null,
   "metadata": {},
   "outputs": [],
   "source": [
    "N,M,X,Y,K=4, 2, 0, 0, 8\n",
    "\n",
    "matrix=[\n",
    "[0, 2],\n",
    "[3, 4],\n",
    "[5, 6],\n",
    "[7, 8]\n",
    "]\n",
    "\n",
    "operation=[4, 4, 4, 1, 3, 3, 3, 2] #1:동, 2:서, 3:남, 4:북"
   ]
  },
  {
   "cell_type": "code",
   "execution_count": null,
   "metadata": {},
   "outputs": [],
   "source": [
    "def move(matrix,operation,start_location_x,start_location_y,num):\n",
    "    "
   ]
  }
 ],
 "metadata": {
  "interpreter": {
   "hash": "b3ba2566441a7c06988d0923437866b63cedc61552a5af99d1f4fb67d367b25f"
  },
  "kernelspec": {
   "display_name": "Python 3.8.8 64-bit ('base': conda)",
   "language": "python",
   "name": "python3"
  },
  "language_info": {
   "codemirror_mode": {
    "name": "ipython",
    "version": 3
   },
   "file_extension": ".py",
   "mimetype": "text/x-python",
   "name": "python",
   "nbconvert_exporter": "python",
   "pygments_lexer": "ipython3",
   "version": "3.8.8"
  },
  "orig_nbformat": 4
 },
 "nbformat": 4,
 "nbformat_minor": 2
}
