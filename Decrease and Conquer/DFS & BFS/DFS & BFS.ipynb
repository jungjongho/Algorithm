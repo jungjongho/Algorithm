{
 "cells": [
  {
   "cell_type": "code",
   "execution_count": 1,
   "metadata": {},
   "outputs": [
    {
     "name": "stdout",
     "output_type": "stream",
     "text": [
      "10 9 6 5 1 2 3 4 7 8 "
     ]
    }
   ],
   "source": [
    "graph=[\n",
    "    [], #0번 노드\n",
    "    [2,4,5],#1번 노드\n",
    "    [1,3], #2번 노드\n",
    "    [2,4], #3번 노드\n",
    "    [1,3], #4번노드\n",
    "    [1,6], #5번노드\n",
    "    [5,7,9], #6번노드\n",
    "    [6,8], #7번노드\n",
    "    [7,9], #8번노드\n",
    "    [6,8,10], #9번노드\n",
    "    [9] #10번노드\n",
    "]\n",
    "\n",
    "def DFS(graph,v,visited):\n",
    "    visited[v]=True\n",
    "    print(v, end=' ')\n",
    "\n",
    "    for i in graph[v]:\n",
    "        if not visited[i]:\n",
    "            DFS(graph,i,visited)\n",
    "\n",
    "\n",
    "visited=[False]*11\n",
    "\n",
    "DFS(graph,10,visited)"
   ]
  },
  {
   "cell_type": "code",
   "execution_count": 4,
   "metadata": {},
   "outputs": [
    {
     "name": "stdout",
     "output_type": "stream",
     "text": [
      "5 1 6 2 4 7 9 3 8 10 "
     ]
    }
   ],
   "source": [
    "visited=[False]*11\n",
    "\n",
    "graph=[\n",
    "    [], #0번 노드\n",
    "    [2,4,5],#1번 노드\n",
    "    [1,3], #2번 노드\n",
    "    [2,4], #3번 노드\n",
    "    [1,3], #4번노드\n",
    "    [1,6], #5번노드\n",
    "    [5,7,9], #6번노드\n",
    "    [6,8], #7번노드\n",
    "    [7,9], #8번노드\n",
    "    [6,8,10], #9번노드\n",
    "    [9] #10번노드\n",
    "]\n",
    "\n",
    "\n",
    "def BFS(graph,v,visited):\n",
    "    queue=list([v])\n",
    "    #tmp_array=[1,6]\n",
    "    visited[v]=True\n",
    "\n",
    "    while queue:\n",
    "        v=queue[0]\n",
    "        queue.remove(v)\n",
    "        print(v, end=' ')\n",
    "\n",
    "        for i in graph[v]:\n",
    "            if not visited[i]:\n",
    "                if queue==None:\n",
    "                    queue=[]\n",
    "                queue.append(i)\n",
    "                visited[i]=True\n",
    "\n",
    "    \n",
    "\n",
    "BFS(graph,5,visited)\n",
    "        "
   ]
  },
  {
   "cell_type": "code",
   "execution_count": 8,
   "metadata": {},
   "outputs": [
    {
     "name": "stdout",
     "output_type": "stream",
     "text": [
      "1 2 4 3 \n",
      "\n",
      "1 2 3 4 "
     ]
    }
   ],
   "source": [
    "n, m, v = map(int, input().split())\n",
    "\n",
    "graph = [[] for _ in range(n+1)]\n",
    "\n",
    "\n",
    "for _ in range(m):\n",
    "    a, b = map(int, input().split())\n",
    "    graph[a].append(b)\n",
    "    graph[b].append(a)\n",
    "\n",
    "\n",
    "visited1=[False]*n\n",
    "visited2=[False]*n\n",
    "\n",
    "def DFS(graph,v,visited):\n",
    "    visited[v]=True\n",
    "    print(v, end=' ')\n",
    "\n",
    "    for i in graph[v]:\n",
    "        if not visited[i]:\n",
    "            DFS(graph,i,visited)\n",
    "\n",
    "\n",
    "def BFS(graph,v,visited):\n",
    "    queue=list([v])\n",
    "    #tmp_array=[1,6]\n",
    "    visited[v]=True\n",
    "\n",
    "    while queue:\n",
    "        v=queue[0]\n",
    "        queue.remove(v)\n",
    "        print(v, end=' ')\n",
    "\n",
    "        for i in graph[v]:\n",
    "            if not visited[i]:\n",
    "                if queue==None:\n",
    "                    queue=[]\n",
    "                queue.append(i)\n",
    "                visited[i]=True\n",
    "\n",
    "    \n",
    "DFS(graph,v,visited1)\n",
    "print('')\n",
    "BFS(graph,v,visited2)\n",
    "        "
   ]
  }
 ],
 "metadata": {
  "interpreter": {
   "hash": "b3ba2566441a7c06988d0923437866b63cedc61552a5af99d1f4fb67d367b25f"
  },
  "kernelspec": {
   "display_name": "Python 3.8.8 64-bit ('base': conda)",
   "language": "python",
   "name": "python3"
  },
  "language_info": {
   "codemirror_mode": {
    "name": "ipython",
    "version": 3
   },
   "file_extension": ".py",
   "mimetype": "text/x-python",
   "name": "python",
   "nbconvert_exporter": "python",
   "pygments_lexer": "ipython3",
   "version": "3.8.8"
  },
  "orig_nbformat": 4
 },
 "nbformat": 4,
 "nbformat_minor": 2
}
