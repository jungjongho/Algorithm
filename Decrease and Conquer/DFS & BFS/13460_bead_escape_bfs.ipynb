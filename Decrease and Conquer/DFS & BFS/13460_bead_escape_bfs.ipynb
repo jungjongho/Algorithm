{
 "cells": [
  {
   "cell_type": "code",
   "execution_count": 1,
   "metadata": {},
   "outputs": [],
   "source": [
    "#자료\n",
    "from itertools import chain\n",
    "from itertools import combinations\n",
    "from itertools import product\n",
    "from itertools import groupby\n",
    "import random\n",
    "import copy\n",
    "\n",
    "N,M=10,10\n",
    "matrix=[\n",
    "['#','#','#','#','#','#','#','#','#','#'],\n",
    "['#','R','#','.','.','.','#','#','B','#'],\n",
    "['#','.','.','.','#','.','#','#','.','#'],\n",
    "['#','#','#','#','#','.','#','#','.','#'],\n",
    "['#','.','.','.','.','.','.','#','.','#'],\n",
    "['#','.','#','#','#','#','#','#','.','#'],\n",
    "['#','.','#','.','.','.','.','#','.','#'],\n",
    "['#','.','#','.','#','.','#','.','.','#'],\n",
    "['#','.','.','.','#','.','O','#','.','#'],\n",
    "['#','#','#','#','#','#','#','#','#','#'],\n",
    "]"
   ]
  },
  {
   "cell_type": "code",
   "execution_count": 16,
   "metadata": {},
   "outputs": [
    {
     "name": "stdout",
     "output_type": "stream",
     "text": [
      "deque([])\n",
      "-1\n"
     ]
    }
   ],
   "source": [
    "from sys import stdin\n",
    "from collections import deque\n",
    "\n",
    "n,m=10,10\n",
    "a = [\n",
    "['#','#','#','#','#','#','#','#','#','#'],\n",
    "['#','R','#','.','.','.','#','#','B','#'],\n",
    "['#','.','.','.','#','.','#','#','.','#'],\n",
    "['#','#','#','#','#','.','#','#','.','#'],\n",
    "['#','.','.','.','.','.','.','#','.','#'],\n",
    "['#','.','#','#','#','#','#','#','.','#'],\n",
    "['#','.','#','.','.','.','.','#','.','#'],\n",
    "['#','.','#','.','#','.','#','.','.','#'],\n",
    "['#','.','.','.','#','.','O','#','.','#'],\n",
    "['#','#','#','#','#','#','#','#','#','#'],\n",
    "]\n",
    "check = [[[[False]*m for _ in range(n)] for _ in range(m)] for _ in range(n)]\n",
    "\n",
    "#왜 굳이 check에서 R 과 B를 한곳에 넣어주었을까?\n",
    "#R,B를 함께해서 10^4번보다는 R과B를 따로따로 10^2, 10^2에 넣어주는 편이 보기에 편하지 않았을까?\n",
    "\n",
    "#함께한다면 10^4개의 상황에대하여 표현할수있지만\n",
    "#따로 하게되면 ?\n",
    "\n",
    "dx, dy = (-1, 0, 1, 0), (0, 1, 0, -1)\n",
    "q = deque()\n",
    "\n",
    "print(q)\n",
    "\n",
    "def init(): #시작 R지점과 B지점 확보\n",
    "    _rx, _ry, _bx, _by = [0]*4\n",
    "    for i in range(n):\n",
    "        for j in range(m):\n",
    "            if a[i][j] == 'R':\n",
    "                _rx, _ry = i, j\n",
    "            elif a[i][j] == 'B':\n",
    "                _bx, _by = i, j\n",
    "    q.append((_rx, _ry, _bx, _by, 0))\n",
    "    check[_rx][_ry][_bx][_by] = True\n",
    "\n",
    "\n",
    "def move(_x, _y, _dx, _dy, _c):\n",
    "    while a[_x+_dx][_y+_dy] != '#' and a[_x][_y] != 'O': # #에막힐 떄까지 c가 한방향으로 이동\n",
    "        _x += _dx\n",
    "        _y += _dy\n",
    "        _c += 1\n",
    "    return _x, _y, _c\n",
    "\n",
    "def bfs():\n",
    "    while q:\n",
    "        rx, ry, bx, by, d = q.popleft() #q에 담겨있는 r,b의 위치를 가져옴 q는 비어있음\n",
    "        if d >= 10:\n",
    "            break\n",
    "        for i in range(4): #0,1,2,3  0->left, 1-> down, 2->right, 3-> up\n",
    "            nrx, nry, rc = move(rx, ry, dx[i], dy[i], 0) # dx, dy = (-1, 0, 1, 0), (0, 1, 0, -1)\n",
    "            nbx, nby, bc = move(bx, by, dx[i], dy[i], 0)\n",
    "            if a[nbx][nby] == 'O': #파란공이 O에 들어갔을 때\n",
    "                continue\n",
    "            if a[nrx][nry] == 'O': #빨간공이 O에 들어갔을 때\n",
    "                print(d+1)\n",
    "                return\n",
    "            if nrx == nbx and nry == nby: #빨간공과 파란공이 겹쳤을 때\n",
    "                if rc > bc: #더 많이 움직인것이 R인 경우\n",
    "                    nrx, nry = nrx-dx[i], nry-dy[i]   # R공을 한칸 뒤로 \n",
    "                else:# 더 많이 움직인것이 B인경우\n",
    "                    nbx, nby = nbx-dx[i], nby-dy[i] # B공을 한칸 뒤로\n",
    "            if not check[nrx][nry][nbx][nby]: #그 파트에 들어온적이 없다면 \n",
    "                check[nrx][nry][nbx][nby] = True #방문 표시한뒤에\n",
    "                q.append((nrx, nry, nbx, nby, d+1)) # q에 추가\n",
    "    print(-1)\n",
    "\n",
    "init()\n",
    "bfs()\n",
    "\n",
    "\n",
    "\n"
   ]
  },
  {
   "cell_type": "code",
   "execution_count": 5,
   "metadata": {},
   "outputs": [
    {
     "data": {
      "text/plain": [
       "2"
      ]
     },
     "execution_count": 5,
     "metadata": {},
     "output_type": "execute_result"
    }
   ],
   "source": [
    "random.randint(1,4)"
   ]
  },
  {
   "cell_type": "code",
   "execution_count": 1,
   "metadata": {},
   "outputs": [
    {
     "ename": "NameError",
     "evalue": "name 'product' is not defined",
     "output_type": "error",
     "traceback": [
      "\u001b[1;31m---------------------------------------------------------------------------\u001b[0m",
      "\u001b[1;31mNameError\u001b[0m                                 Traceback (most recent call last)",
      "\u001b[1;32m<ipython-input-1-947e3807ab99>\u001b[0m in \u001b[0;36m<module>\u001b[1;34m\u001b[0m\n\u001b[1;32m----> 1\u001b[1;33m \u001b[0moperation\u001b[0m\u001b[1;33m=\u001b[0m\u001b[0mlist\u001b[0m\u001b[1;33m(\u001b[0m\u001b[0mproduct\u001b[0m\u001b[1;33m(\u001b[0m\u001b[1;33m[\u001b[0m\u001b[1;34m'up'\u001b[0m\u001b[1;33m,\u001b[0m\u001b[1;34m'down'\u001b[0m\u001b[1;33m,\u001b[0m\u001b[1;34m'left'\u001b[0m\u001b[1;33m,\u001b[0m\u001b[1;34m'right'\u001b[0m\u001b[1;33m]\u001b[0m\u001b[1;33m,\u001b[0m\u001b[0mrepeat\u001b[0m\u001b[1;33m=\u001b[0m\u001b[1;36m10\u001b[0m\u001b[1;33m)\u001b[0m\u001b[1;33m)\u001b[0m\u001b[1;33m\u001b[0m\u001b[1;33m\u001b[0m\u001b[0m\n\u001b[0m\u001b[0;32m      2\u001b[0m \u001b[1;33m\u001b[0m\u001b[0m\n\u001b[0;32m      3\u001b[0m \u001b[1;32mfor\u001b[0m \u001b[0mi\u001b[0m \u001b[1;32min\u001b[0m \u001b[0moperation\u001b[0m\u001b[1;33m:\u001b[0m\u001b[1;33m\u001b[0m\u001b[1;33m\u001b[0m\u001b[0m\n\u001b[0;32m      4\u001b[0m     \u001b[0mprint\u001b[0m\u001b[1;33m(\u001b[0m\u001b[0mi\u001b[0m\u001b[1;33m)\u001b[0m\u001b[1;33m\u001b[0m\u001b[1;33m\u001b[0m\u001b[0m\n",
      "\u001b[1;31mNameError\u001b[0m: name 'product' is not defined"
     ]
    }
   ],
   "source": [
    "def generate_list(len):\n",
    "    operation=['right','left','up','down']\n",
    "    \n"
   ]
  },
  {
   "cell_type": "code",
   "execution_count": 19,
   "metadata": {},
   "outputs": [
    {
     "name": "stdout",
     "output_type": "stream",
     "text": [
      "[11]\n",
      "[18]\n"
     ]
    }
   ],
   "source": [
    "matrix_flatten=list(chain(*matrix))\n",
    "# matrix_flatten\n",
    "R_index=[]\n",
    "B_index=[]\n",
    "\n",
    "for idx, i in enumerate(matrix_flatten):\n",
    "    if i=='R':\n",
    "        R_index.append(idx)\n",
    "    if i=='B':\n",
    "        B_index.append(idx)\n",
    "\n",
    "print(R_index)\n",
    "print(B_index)\n",
    "\n"
   ]
  },
  {
   "cell_type": "code",
   "execution_count": 20,
   "metadata": {},
   "outputs": [],
   "source": [
    "tmp=0\n",
    "\n",
    "def move(matrix,direction,R_location,B_location,tmp):\n",
    "    tmp +=1\n",
    "    if direction=='left':\n",
    "        for i in range(M):\n",
    "            if matrix[R_location-1]=='.':\n",
    "                R_location= R_location -1\n",
    "                matrix[R_location]='R'\n",
    "                matrix[R_location+1]='.'\n",
    "\n",
    "            elif matrix[R_location-1]=='O':\n",
    "                \n",
    "                return tmp\n",
    "\n",
    "\n",
    "            if matrix[B_location-1]=='.':\n",
    "                B_location = B_location -1\n",
    "                matrix[B_location]='B'\n",
    "                matrix[B_location+1]='.'\n",
    "\n",
    "            elif matrix[R_location-1]=='O':\n",
    "\n",
    "                return False    \n",
    "\n",
    "    if direction=='right':\n",
    "        for i in range(M):\n",
    "            if matrix[R_location+1]=='.':\n",
    "                R_location= R_location +1\n",
    "                matrix[R_location]='R'\n",
    "                matrix[R_location-1]='.'\n",
    "\n",
    "            elif matrix[R_location+1]=='O':\n",
    "                \n",
    "                return tmp\n",
    "\n",
    "\n",
    "            if matrix[B_location+1]=='.':\n",
    "                B_location = B_location +1\n",
    "                matrix[B_location]='B'\n",
    "                matrix[B_location-1]='.'\n",
    "\n",
    "            elif matrix[R_location+1]=='O':\n",
    "\n",
    "                return False \n",
    "\n",
    "    if direction=='up':\n",
    "        for i in range(N):\n",
    "            if matrix[R_location-M]=='.':\n",
    "                R_location= R_location -M\n",
    "                matrix[R_location]='R'\n",
    "                matrix[R_location+M]='.'\n",
    "\n",
    "            elif matrix[R_location-M]=='O':\n",
    "                \n",
    "                return tmp\n",
    "\n",
    "\n",
    "            if matrix[B_location-M]=='.':\n",
    "                B_location = B_location -M\n",
    "                matrix[B_location]='B'\n",
    "                matrix[B_location+M]='.'\n",
    "\n",
    "            elif matrix[R_location-M]=='O':\n",
    "\n",
    "                return False   \n",
    "\n",
    "    if direction=='down':\n",
    "        for i in range(N):\n",
    "            if matrix[R_location+M]=='.':\n",
    "                R_location= R_location +M\n",
    "                matrix[R_location]='R'\n",
    "                matrix[R_location-M]='.'\n",
    "\n",
    "            elif matrix[R_location+M]=='O':\n",
    "                \n",
    "                return tmp\n",
    "\n",
    "\n",
    "            if matrix[B_location+M]=='.':\n",
    "                B_location = B_location +M\n",
    "                matrix[B_location]='B'\n",
    "                matrix[B_location-M]='.'\n",
    "\n",
    "            elif matrix[R_location+M]=='O':\n",
    "\n",
    "                return False "
   ]
  },
  {
   "cell_type": "code",
   "execution_count": 21,
   "metadata": {},
   "outputs": [],
   "source": [
    "def remove(arr):\n",
    "    result=[]\n",
    "    result.append(arr[0])\n",
    "    for i in range(1,len(arr)):\n",
    "        if arr[i] != arr[i-1]:\n",
    "            result.append(arr[i])\n",
    "    return result"
   ]
  },
  {
   "cell_type": "code",
   "execution_count": 22,
   "metadata": {},
   "outputs": [
    {
     "ename": "KeyboardInterrupt",
     "evalue": "",
     "output_type": "error",
     "traceback": [
      "\u001b[1;31m---------------------------------------------------------------------------\u001b[0m",
      "\u001b[1;31mKeyboardInterrupt\u001b[0m                         Traceback (most recent call last)",
      "\u001b[1;32m<ipython-input-22-bf951b4e2bfb>\u001b[0m in \u001b[0;36m<module>\u001b[1;34m\u001b[0m\n\u001b[0;32m      4\u001b[0m     \u001b[0mi\u001b[0m\u001b[1;33m=\u001b[0m\u001b[0mremove\u001b[0m\u001b[1;33m(\u001b[0m\u001b[0mi\u001b[0m\u001b[1;33m)\u001b[0m\u001b[1;33m\u001b[0m\u001b[1;33m\u001b[0m\u001b[0m\n\u001b[0;32m      5\u001b[0m     \u001b[1;32mfor\u001b[0m \u001b[0mk\u001b[0m \u001b[1;32min\u001b[0m \u001b[0mi\u001b[0m\u001b[1;33m:\u001b[0m\u001b[1;33m\u001b[0m\u001b[1;33m\u001b[0m\u001b[0m\n\u001b[1;32m----> 6\u001b[1;33m         \u001b[0mop\u001b[0m\u001b[1;33m=\u001b[0m\u001b[0mmove\u001b[0m\u001b[1;33m(\u001b[0m\u001b[0mmatrix_flatten\u001b[0m\u001b[1;33m,\u001b[0m\u001b[0mk\u001b[0m\u001b[1;33m,\u001b[0m\u001b[0mR_index\u001b[0m\u001b[1;33m[\u001b[0m\u001b[1;36m0\u001b[0m\u001b[1;33m]\u001b[0m\u001b[1;33m,\u001b[0m\u001b[0mB_index\u001b[0m\u001b[1;33m[\u001b[0m\u001b[1;36m0\u001b[0m\u001b[1;33m]\u001b[0m\u001b[1;33m,\u001b[0m\u001b[0mtmp\u001b[0m\u001b[1;33m)\u001b[0m\u001b[1;33m\u001b[0m\u001b[1;33m\u001b[0m\u001b[0m\n\u001b[0m\u001b[0;32m      7\u001b[0m         \u001b[1;32mif\u001b[0m \u001b[0mop\u001b[0m\u001b[1;33m==\u001b[0m\u001b[1;32mFalse\u001b[0m\u001b[1;33m:\u001b[0m\u001b[1;33m\u001b[0m\u001b[1;33m\u001b[0m\u001b[0m\n\u001b[0;32m      8\u001b[0m             \u001b[1;32mbreak\u001b[0m\u001b[1;33m\u001b[0m\u001b[1;33m\u001b[0m\u001b[0m\n",
      "\u001b[1;32m<ipython-input-20-301e8d0d46cb>\u001b[0m in \u001b[0;36mmove\u001b[1;34m(matrix, direction, R_location, B_location, tmp)\u001b[0m\n\u001b[0;32m     36\u001b[0m \u001b[1;33m\u001b[0m\u001b[0m\n\u001b[0;32m     37\u001b[0m \u001b[1;33m\u001b[0m\u001b[0m\n\u001b[1;32m---> 38\u001b[1;33m             \u001b[1;32mif\u001b[0m \u001b[0mmatrix\u001b[0m\u001b[1;33m[\u001b[0m\u001b[0mB_location\u001b[0m\u001b[1;33m+\u001b[0m\u001b[1;36m1\u001b[0m\u001b[1;33m]\u001b[0m\u001b[1;33m==\u001b[0m\u001b[1;34m'.'\u001b[0m\u001b[1;33m:\u001b[0m\u001b[1;33m\u001b[0m\u001b[1;33m\u001b[0m\u001b[0m\n\u001b[0m\u001b[0;32m     39\u001b[0m                 \u001b[0mB_location\u001b[0m \u001b[1;33m=\u001b[0m \u001b[0mB_location\u001b[0m \u001b[1;33m+\u001b[0m\u001b[1;36m1\u001b[0m\u001b[1;33m\u001b[0m\u001b[1;33m\u001b[0m\u001b[0m\n\u001b[0;32m     40\u001b[0m                 \u001b[0mmatrix\u001b[0m\u001b[1;33m[\u001b[0m\u001b[0mB_location\u001b[0m\u001b[1;33m]\u001b[0m\u001b[1;33m=\u001b[0m\u001b[1;34m'B'\u001b[0m\u001b[1;33m\u001b[0m\u001b[1;33m\u001b[0m\u001b[0m\n",
      "\u001b[1;31mKeyboardInterrupt\u001b[0m: "
     ]
    }
   ],
   "source": [
    "tmp_list=[]\n",
    "\n",
    "for i in operation:\n",
    "    i=remove(i)\n",
    "    for k in i:\n",
    "        op=move(matrix_flatten,k,R_index[0],B_index[0],tmp)\n",
    "        if op==False:\n",
    "            break\n",
    "    tmp_list.append(tmp)\n",
    "\n",
    "if max(tmp_list)==0:\n",
    "    print(-1)\n",
    "else:\n",
    "    print(max(tmp_list))"
   ]
  },
  {
   "cell_type": "code",
   "execution_count": 20,
   "metadata": {},
   "outputs": [
    {
     "name": "stdout",
     "output_type": "stream",
     "text": [
      "deque([])\n",
      "-1\n"
     ]
    }
   ],
   "source": [
    "from sys import stdin\n",
    "from collections import deque\n",
    "\n",
    "n,m=10,10\n",
    "a = [\n",
    "['#','#','#','#','#','#','#','#','#','#']\n",
    "['#','R','#','.','.','.','#','#','B','#'],\n",
    "['#','.','.','.','#','.','#','#','.','#'],\n",
    "['#','#','#','#','#','.','#','#','.','#'],\n",
    "['#','.','.','.','.','.','.','#','.','#'],\n",
    "['#','.','#','#','#','#','#','#','.','#'],\n",
    "['#','.','#','.','.','.','.','#','.','#'],\n",
    "['#','.','#','.','#','.','#','.','.','#'],\n",
    "['#','.','.','.','#','.','O','#','.','#'],\n",
    "['#','#','#','#','#','#','#','#','#','#'],\n",
    "]\n",
    "check_red=[[False]*m]*n\n",
    "check_blue=[[False]*m]*n\n",
    "\n",
    "\n",
    "\n",
    "#왜 굳이 check에서 R 과 B를 한곳에 넣어주었을까?\n",
    "#R,B를 함께해서 10^4번보다는 R과B를 따로따로 10^2, 10^2에 넣어주는 편이 보기에 편하지 않았을까?\n",
    "\n",
    "\n",
    "dx, dy = (-1, 0, 1, 0), (0, 1, 0, -1)\n",
    "q = deque()\n",
    "\n",
    "print(q)\n",
    "\n",
    "def init(): #시작 R지점과 B지점 확보\n",
    "    rx, ry, bx, by = [0]*4\n",
    "\n",
    "    for i in range(n):\n",
    "        for j in range(m):\n",
    "            if a[i][j] == 'R':\n",
    "                rx, ry = i, j\n",
    "            elif a[i][j] == 'B':\n",
    "                bx, by = i, j\n",
    "    q.append((rx, ry, bx, by, 0))\n",
    "    check_red[rx][ry] = True\n",
    "    check_blue[bx][by] = True\n",
    "\n",
    "\n",
    "def move(x, y, dx, dy, c):\n",
    "    while a[x+dx][y+dy] != '#' and a[x][y] != 'O': # #에막힐 떄까지 c가 한방향으로 이동\n",
    "        x += dx\n",
    "        y += dy\n",
    "        c += 1\n",
    "    return x, y, c\n",
    "\n",
    "def bfs():\n",
    "    while q:\n",
    "        rx1, ry1, bx1, by1, d = q.popleft() #q에 담겨있는 r,b의 위치를 가져옴 q는 비어있음\n",
    "        if d >= 10:\n",
    "            break\n",
    "        for i in range(4): #0,1,2,3  0->left, 1-> down, 2->right, 3-> up\n",
    "            nrx, nry, rc = move(rx1, ry1, dx[i], dy[i], 0) # dx, dy = (-1, 0, 1, 0), (0, 1, 0, -1)\n",
    "            nbx, nby, bc = move(bx1, by1, dx[i], dy[i], 0)\n",
    "            if a[nbx][nby] == 'O': #파란공이 O에 들어갔을 때\n",
    "                continue\n",
    "            if a[nrx][nry] == 'O': #빨간공이 O에 들어갔을 때\n",
    "                print(d+1)\n",
    "                return\n",
    "            if nrx == nbx and nry == nby: #빨간공과 파란공이 겹쳤을 때\n",
    "                if rc > bc: #더 많이 움직인것이 R인 경우\n",
    "                    nrx, nry = nrx-dx[i], nry-dy[i]   # R공을 한칸 뒤로 \n",
    "                else:# 더 많이 움직인것이 B인경우\n",
    "                    nbx, nby = nbx-dx[i], nby-dy[i] # B공을 한칸 뒤로\n",
    "            if (check_red[nrx][nry]==False) and(check_blue[nbx][nby]==False): #그 파트에 들어온적이 없다면 \n",
    "                check_red[nrx][nry] ,check_blue[nbx][nby] = True, True #방문 표시한뒤에\n",
    "                q.append((nrx, nry, nbx, nby, d+1)) # q에 추가\n",
    "    print(-1)\n",
    "\n",
    "init()\n",
    "bfs()\n",
    "\n",
    "\n",
    "\n"
   ]
  },
  {
   "cell_type": "code",
   "execution_count": 21,
   "metadata": {},
   "outputs": [
    {
     "name": "stdout",
     "output_type": "stream",
     "text": [
      "[[1, 0], [1, 0], [1, 0]]\n",
      "[[1, 0], [0, 0], [0, 0]]\n"
     ]
    }
   ],
   "source": [
    "a = [[0] * 2] * 3\n",
    "b = [[0] * 2 for _ in range(3)]\n",
    "\n",
    "a[0][0] = 1\n",
    "b[0][0] = 1\n",
    "\n",
    "print(a)\n",
    "print(b)\n",
    "\n"
   ]
  }
 ],
 "metadata": {
  "interpreter": {
   "hash": "b3ba2566441a7c06988d0923437866b63cedc61552a5af99d1f4fb67d367b25f"
  },
  "kernelspec": {
   "display_name": "Python 3.8.8 64-bit ('base': conda)",
   "language": "python",
   "name": "python3"
  },
  "language_info": {
   "codemirror_mode": {
    "name": "ipython",
    "version": 3
   },
   "file_extension": ".py",
   "mimetype": "text/x-python",
   "name": "python",
   "nbconvert_exporter": "python",
   "pygments_lexer": "ipython3",
   "version": "3.9.6"
  },
  "orig_nbformat": 4
 },
 "nbformat": 4,
 "nbformat_minor": 2
}
