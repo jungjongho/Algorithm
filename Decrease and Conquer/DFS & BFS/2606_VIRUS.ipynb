{
 "cells": [
  {
   "cell_type": "code",
   "execution_count": 1,
   "metadata": {},
   "outputs": [],
   "source": [
    "n=7\n",
    "m=6\n",
    "\n",
    "graph = [[] for _ in range(n+1)]\n",
    "for i in range(m):\n",
    "    a, b = map(int, input().split())\n",
    "    graph[a].append(b)\n",
    "    graph[b].append(a)\n",
    "\n",
    "visited1=[False]*(n+1)\n",
    "visited2=[False]*(n+1)\n",
    "\n",
    "def DFS(graph,v,visited):\n",
    "    visited[v]=True\n",
    "    print(v, end=' ')\n",
    "\n",
    "    for i in graph[v]:\n",
    "        if not visited[i]:\n",
    "            DFS(graph,i,visited)\n",
    "\n",
    "DFS(graph,1,visited1)"
   ]
  }
 ],
 "metadata": {
  "interpreter": {
   "hash": "711798a1253e42aea39410b452da8b3c7dc6309309029f9a45f64c032f4e4fab"
  },
  "kernelspec": {
   "display_name": "Python 3.8.11 ('stockpredict')",
   "language": "python",
   "name": "python3"
  },
  "language_info": {
   "codemirror_mode": {
    "name": "ipython",
    "version": 3
   },
   "file_extension": ".py",
   "mimetype": "text/x-python",
   "name": "python",
   "nbconvert_exporter": "python",
   "pygments_lexer": "ipython3",
   "version": "3.8.11"
  },
  "orig_nbformat": 4
 },
 "nbformat": 4,
 "nbformat_minor": 2
}
