{
 "cells": [
  {
   "cell_type": "markdown",
   "metadata": {},
   "source": [
    "120개의 코인이 있는 경우\n",
    "\n",
    "\n",
    "1) 하나의 가짜 코인이 있고, Constant factor 3으로 해결하는 경우\n",
    "2) 두개의 가짜 코인이 있고, Constant factor 3으로 해결하는 경우\n",
    "각각의 경우 몇번의 비교 후에 fake 코인을 찾을 수 있는지 과정과 함께 결과를 답해보세요.\n",
    "\n"
   ]
  },
  {
   "cell_type": "code",
   "execution_count": null,
   "metadata": {},
   "outputs": [],
   "source": []
  }
 ],
 "metadata": {
  "interpreter": {
   "hash": "b3ba2566441a7c06988d0923437866b63cedc61552a5af99d1f4fb67d367b25f"
  },
  "kernelspec": {
   "display_name": "Python 3.8.8 64-bit ('base': conda)",
   "language": "python",
   "name": "python3"
  },
  "language_info": {
   "name": "python",
   "version": "3.8.8"
  },
  "orig_nbformat": 4
 },
 "nbformat": 4,
 "nbformat_minor": 2
}
