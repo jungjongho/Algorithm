{
 "cells": [
  {
   "cell_type": "code",
   "execution_count": 2,
   "metadata": {},
   "outputs": [
    {
     "name": "stdout",
     "output_type": "stream",
     "text": [
      "10 9 6 5 1 2 3 4 7 8 "
     ]
    }
   ],
   "source": [
    "graph=[\n",
    "    [], #0번 노드\n",
    "    [2,4,5],#1번 노드\n",
    "    [1,3], #2번 노드\n",
    "    [2,4], #3번 노드\n",
    "    [1,3], #4번노드\n",
    "    [1,6], #5번노드\n",
    "    [5,7,9], #6번노드\n",
    "    [6,8], #7번노드\n",
    "    [7,9], #8번노드\n",
    "    [6,8,10], #9번노드\n",
    "    [9] #10번노드\n",
    "]\n",
    "\n",
    "def DFS(graph,v,visited):\n",
    "    visited[v]=True\n",
    "    print(v, end=' ')\n",
    "\n",
    "    for i in graph[v]:\n",
    "        if not visited[i]:\n",
    "            DFS(graph,i,visited)\n",
    "\n",
    "\n",
    "visited=[False]*11\n",
    "\n",
    "DFS(graph,10,visited)"
   ]
  },
  {
   "cell_type": "code",
   "execution_count": 23,
   "metadata": {},
   "outputs": [
    {
     "name": "stdout",
     "output_type": "stream",
     "text": [
      "[5]\n",
      "5 [1, 6]\n",
      "1 [6, 2, 4]\n",
      "6 [2, 4, 7, 9]\n",
      "2 [4, 7, 9, 3]\n",
      "4 [7, 9, 3]\n",
      "7 [9, 3, 8]\n",
      "9 [3, 8, 10]\n",
      "3 [8, 10]\n",
      "8 [10]\n",
      "10 "
     ]
    }
   ],
   "source": [
    "visited=[False]*11\n",
    "\n",
    "graph=[\n",
    "    [], #0번 노드\n",
    "    [2,4,5],#1번 노드\n",
    "    [1,3], #2번 노드\n",
    "    [2,4], #3번 노드\n",
    "    [1,3], #4번노드\n",
    "    [1,6], #5번노드\n",
    "    [5,7,9], #6번노드\n",
    "    [6,8], #7번노드\n",
    "    [7,9], #8번노드\n",
    "    [6,8,10], #9번노드\n",
    "    [9] #10번노드\n",
    "]\n",
    "\n",
    "\n",
    "def BFS(graph,v,visited):\n",
    "    queue=list([v])\n",
    "    #tmp_array=[1,6]\n",
    "    visited[v]=True\n",
    "\n",
    "    while queue:\n",
    "        print(queue)\n",
    "        v=queue[0]\n",
    "        queue.remove(v)\n",
    "        print(v, end=' ')\n",
    "\n",
    "        for i in graph[v]:\n",
    "            if not visited[i]:\n",
    "                if queue==None:\n",
    "                    queue=[]\n",
    "                queue.append(i)\n",
    "                visited[i]=True\n",
    "\n",
    "    \n",
    "\n",
    "BFS(graph,5,visited)\n",
    "        "
   ]
  },
  {
   "cell_type": "code",
   "execution_count": 18,
   "metadata": {},
   "outputs": [
    {
     "data": {
      "text/plain": [
       "False"
      ]
     },
     "execution_count": 18,
     "metadata": {},
     "output_type": "execute_result"
    }
   ],
   "source": [
    "bool(None)"
   ]
  }
 ],
 "metadata": {
  "interpreter": {
   "hash": "b3ba2566441a7c06988d0923437866b63cedc61552a5af99d1f4fb67d367b25f"
  },
  "kernelspec": {
   "display_name": "Python 3.8.8 64-bit ('base': conda)",
   "language": "python",
   "name": "python3"
  },
  "language_info": {
   "codemirror_mode": {
    "name": "ipython",
    "version": 3
   },
   "file_extension": ".py",
   "mimetype": "text/x-python",
   "name": "python",
   "nbconvert_exporter": "python",
   "pygments_lexer": "ipython3",
   "version": "3.8.8"
  },
  "orig_nbformat": 4
 },
 "nbformat": 4,
 "nbformat_minor": 2
}
