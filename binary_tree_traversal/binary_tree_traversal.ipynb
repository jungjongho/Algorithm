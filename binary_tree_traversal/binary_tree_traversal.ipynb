{
 "cells": [
  {
   "cell_type": "markdown",
   "metadata": {},
   "source": [
    "1. Pre-order (Root,Left,Right)\n",
    "2. In-order (Left,Root,Right)\n",
    "3. Post-order (Left,Right,Root)"
   ]
  },
  {
   "cell_type": "code",
   "execution_count": 1,
   "metadata": {},
   "outputs": [],
   "source": [
    "class Node():\n",
    "    def __init__(self,data):\n",
    "        self.data=data\n",
    "        self.left=self.right=None\n",
    "\n",
    "class BinarySearchTree():\n",
    "    def __init__(self):\n",
    "        self.root=None\n",
    "\n",
    "    def insert(self,data):\n",
    "        self.root=self._insert_value(self.root,data)\n",
    "        return self.root is not None\n",
    "\n",
    "    def _insert_value(self,node,data):\n",
    "        if node is None:\n",
    "            node = Node(data)\n",
    "        else:\n",
    "            if data<= node.data:\n",
    "                node.left = self._insert_value(node.left,data)\n",
    "            else:\n",
    "                node.right = self._insert_value(node.right,data)\n",
    "        return node\n",
    "\n",
    "\n",
    "#Pre_order_traversal = (Rt,L,R)\n",
    "    def pre_order_traversal(self):\n",
    "        li=[]\n",
    "        def _pre_order_traversal(root):\n",
    "            if root is None:\n",
    "                pass\n",
    "            else:\n",
    "                li.append(root.data)\n",
    "                _pre_order_traversal(root.left)\n",
    "                _pre_order_traversal(root.right)\n",
    "        _pre_order_traversal(self.root)\n",
    "        print(li)\n",
    "\n",
    "\n",
    "#in_order_traversal = (L,Rt,R)\n",
    "    def in_order_traversal(self):\n",
    "        li=[]\n",
    "        def _in_order_traversal(root):\n",
    "            if root is None:\n",
    "                pass\n",
    "            else:\n",
    "                _in_order_traversal(root.left)\n",
    "                li.append(root.data)\n",
    "                _in_order_traversal(root.right)\n",
    "        _in_order_traversal(self.root)\n",
    "        print(li)\n",
    "\n",
    "\n",
    "\n",
    "#post_order_traversal = (L,R,Rt)\n",
    "    def post_order_travelsal(self):\n",
    "        li=[]\n",
    "        def _post_order_traversal(root):\n",
    "            if root is None:\n",
    "                pass\n",
    "            else:\n",
    "                _post_order_traversal(root.left)\n",
    "                _post_order_traversal(root.right)\n",
    "                li.append(root.data)\n",
    "        _post_order_traversal(self.root)\n",
    "        print(li)\n",
    "\n"
   ]
  },
  {
   "cell_type": "code",
   "execution_count": 2,
   "metadata": {},
   "outputs": [
    {
     "name": "stdout",
     "output_type": "stream",
     "text": [
      "[60, 41, 16, 25, 53, 46, 42, 55, 74, 65, 63, 62, 64, 70]\n",
      "[16, 25, 41, 42, 46, 53, 55, 60, 62, 63, 64, 65, 70, 74]\n",
      "[25, 16, 42, 46, 55, 53, 41, 62, 64, 63, 70, 65, 74, 60]\n"
     ]
    }
   ],
   "source": [
    "array=[60,41,74,16,53,65,25,46,42,55,63,70,62,64]\n",
    "\n",
    "tree=BinarySearchTree()\n",
    "\n",
    "for i in array:\n",
    "    tree.insert(i)\n",
    "\n",
    "tree.pre_order_traversal()\n",
    "tree.in_order_traversal()\n",
    "tree.post_order_travelsal()"
   ]
  }
 ],
 "metadata": {
  "interpreter": {
   "hash": "b3ba2566441a7c06988d0923437866b63cedc61552a5af99d1f4fb67d367b25f"
  },
  "kernelspec": {
   "display_name": "Python 3.8.8 64-bit ('base': conda)",
   "language": "python",
   "name": "python3"
  },
  "language_info": {
   "codemirror_mode": {
    "name": "ipython",
    "version": 3
   },
   "file_extension": ".py",
   "mimetype": "text/x-python",
   "name": "python",
   "nbconvert_exporter": "python",
   "pygments_lexer": "ipython3",
   "version": "3.8.8"
  },
  "orig_nbformat": 4
 },
 "nbformat": 4,
 "nbformat_minor": 2
}
